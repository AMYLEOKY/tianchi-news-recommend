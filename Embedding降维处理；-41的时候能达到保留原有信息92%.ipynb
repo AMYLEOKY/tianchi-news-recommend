{
 "cells": [
  {
   "cell_type": "code",
   "execution_count": 2,
   "id": "4602e26d",
   "metadata": {},
   "outputs": [],
   "source": [
    "import numpy as np\n",
    "import pandas as pd\n",
    "import pickle\n",
    "from tqdm import tqdm\n",
    "import gc, os\n",
    "import time\n",
    "from datetime import datetime\n",
    "import lightgbm as lgb\n",
    "from sklearn.preprocessing import MinMaxScaler\n",
    "import warnings\n",
    "warnings.filterwarnings('ignore')\n",
    "import matplotlib.pyplot as plt\n",
    "plt.rcParams['font.sans-serif']=['SimHei']\n",
    "plt.rcParams['axes.unicode_minus']=False #中文\n",
    "pd.set_option(\"display.float_format\", lambda x: \"%.3f\" % x) #避免显示问题，设置不显示科学计数法"
   ]
  },
  {
   "cell_type": "code",
   "execution_count": 3,
   "id": "6abf94c3",
   "metadata": {},
   "outputs": [],
   "source": [
    "embedding_data = pd.read_csv(\"./articles_emb.csv\")\n",
    "embedding_data_feature = embedding_data.iloc[:,1:]"
   ]
  },
  {
   "cell_type": "code",
   "execution_count": 4,
   "id": "7be14401",
   "metadata": {},
   "outputs": [
    {
     "data": {
      "text/plain": [
       "array([[-2.17676422, -1.31685161],\n",
       "       [-1.73514263,  0.48981026],\n",
       "       [-0.91269049, -2.08940781],\n",
       "       ...,\n",
       "       [ 1.56411549,  4.05328197],\n",
       "       [ 4.86636169,  0.15171673],\n",
       "       [ 1.18054101,  3.04040058]])"
      ]
     },
     "execution_count": 4,
     "metadata": {},
     "output_type": "execute_result"
    }
   ],
   "source": [
    "from sklearn.decomposition import PCA\n",
    "pca_cpu = PCA(n_components=2)\n",
    "pca_cpu_re = pca_cpu.fit(embedding_data_feature)\n",
    "embedding_data_feature_new = pca_cpu_re.transform(embedding_data_feature)\n",
    "embedding_data_feature_new"
   ]
  },
  {
   "cell_type": "code",
   "execution_count": 5,
   "id": "c60b2d32",
   "metadata": {},
   "outputs": [
    {
     "data": {
      "text/plain": [
       "array([0.09248697, 0.07410165])"
      ]
     },
     "execution_count": 5,
     "metadata": {},
     "output_type": "execute_result"
    }
   ],
   "source": [
    "pca_cpu_re.explained_variance_ratio_"
   ]
  },
  {
   "cell_type": "code",
   "execution_count": 6,
   "id": "c3c149d4",
   "metadata": {},
   "outputs": [
    {
     "data": {
      "text/plain": [
       "0.16658861570461708"
      ]
     },
     "execution_count": 6,
     "metadata": {},
     "output_type": "execute_result"
    }
   ],
   "source": [
    "pca_cpu_re.explained_variance_ratio_.sum()"
   ]
  },
  {
   "cell_type": "code",
   "execution_count": 12,
   "id": "2eaa3e5a",
   "metadata": {},
   "outputs": [
    {
     "data": {
      "text/plain": [
       "[<matplotlib.lines.Line2D at 0x26586b87910>]"
      ]
     },
     "execution_count": 12,
     "metadata": {},
     "output_type": "execute_result"
    },
    {
     "data": {
      "image/png": "[encoded data removed]",
      "text/plain": [
       "<Figure size 936x576 with 1 Axes>"
      ]
     },
     "metadata": {
      "needs_background": "light"
     },
     "output_type": "display_data"
    }
   ],
   "source": [
    "vari_cumsum = []\n",
    "n_components_scope = range(30,51,1)\n",
    "for i in n_components_scope:\n",
    "    pca_cpu = PCA(n_components=i)\n",
    "    pca_cpu_re = pca_cpu.fit(embedding_data_feature)\n",
    "    embedding_data_feature_new = pca_cpu_re.transform(embedding_data_feature)\n",
    "    vari_cumsum.append(pca_cpu_re.explained_variance_ratio_.sum())\n",
    "plt.figure(figsize=(13,8))\n",
    "plt.plot(n_components_scope,vari_cumsum,label = \"降维保留元素曲线\")"
   ]
  },
  {
   "cell_type": "code",
   "execution_count": 13,
   "id": "1b9437d7",
   "metadata": {},
   "outputs": [
    {
     "name": "stdout",
     "output_type": "stream",
     "text": [
      "看来选41比较合适！\n"
     ]
    }
   ],
   "source": [
    "print(\"看来选41比较合适！\")"
   ]
  },
  {
   "cell_type": "code",
   "execution_count": 14,
   "id": "48db78f2",
   "metadata": {},
   "outputs": [
    {
     "data": {
      "text/plain": [
       "array([[-2.17678188, -1.31691312, -1.02905122, ..., -0.03340859,\n",
       "        -0.31824855, -0.09665578],\n",
       "       [-1.73517834,  0.4898928 ,  3.26856251, ..., -0.76704912,\n",
       "         0.43697559,  0.21269259],\n",
       "       [-0.91269183, -2.08933926,  1.86587099, ...,  0.37150933,\n",
       "         0.25137592, -0.75385866],\n",
       "       ...,\n",
       "       [ 1.56412686,  4.0533476 ,  2.13453725, ...,  0.72472617,\n",
       "         1.22035968, -0.46618573],\n",
       "       [ 4.86636758,  0.15183162, -0.42444092, ...,  0.33635329,\n",
       "         0.6249739 , -0.55039726],\n",
       "       [ 1.18052289,  3.04048777, -2.86296012, ...,  0.36122253,\n",
       "        -0.76204418, -0.72398147]])"
      ]
     },
     "execution_count": 14,
     "metadata": {},
     "output_type": "execute_result"
    }
   ],
   "source": [
    "pca_cpu = PCA(n_components=41)\n",
    "pca_cpu_re = pca_cpu.fit(embedding_data_feature)\n",
    "embedding_data_feature_new_final = pca_cpu_re.transform(embedding_data_feature)\n",
    "embedding_data_feature_new_final"
   ]
  },
  {
   "cell_type": "code",
   "execution_count": 31,
   "id": "ba7bd4bd",
   "metadata": {},
   "outputs": [],
   "source": [
    "new_embedding = pd.DataFrame(embedding_data_feature_new_final)\n",
    "new_embedding_df = pd.concat([embedding_data[\"article_id\"],new_embedding],axis=1)\n",
    "new_embedding_df.columns = list(embedding_data.columns[0:42])\n",
    "new_embedding_df.to_csv(\"./articles_emb_new.csv\",index = False, encoding='utf8')"
   ]
  },
  {
   "cell_type": "code",
   "execution_count": null,
   "id": "3dd98697",
   "metadata": {},
   "outputs": [],
   "source": []
  },
  {
   "cell_type": "code",
   "execution_count": null,
   "id": "0fbb0331",
   "metadata": {},
   "outputs": [],
   "source": []
  },
  {
   "cell_type": "code",
   "execution_count": null,
   "id": "ebced4c1",
   "metadata": {},
   "outputs": [],
   "source": []
  },
  {
   "cell_type": "code",
   "execution_count": null,
   "id": "7eca00e7",
   "metadata": {},
   "outputs": [],
   "source": []
  },
  {
   "cell_type": "code",
   "execution_count": null,
   "id": "c8680bb9",
   "metadata": {},
   "outputs": [],
   "source": []
  },
  {
   "cell_type": "code",
   "execution_count": null,
   "id": "55e79825",
   "metadata": {},
   "outputs": [],
   "source": []
  },
  {
   "cell_type": "code",
   "execution_count": null,
   "id": "78fbf1d8",
   "metadata": {},
   "outputs": [],
   "source": []
  },
  {
   "cell_type": "code",
   "execution_count": null,
   "id": "54dbfbac",
   "metadata": {},
   "outputs": [],
   "source": []
  },
  {
   "cell_type": "code",
   "execution_count": null,
   "id": "51997a40",
   "metadata": {},
   "outputs": [],
   "source": []
  },
  {
   "cell_type": "code",
   "execution_count": null,
   "id": "d783c136",
   "metadata": {},
   "outputs": [],
   "source": []
  },
  {
   "cell_type": "code",
   "execution_count": null,
   "id": "b6d4b5b7",
   "metadata": {},
   "outputs": [],
   "source": []
  },
  {
   "cell_type": "code",
   "execution_count": null,
   "id": "152bfcd9",
   "metadata": {},
   "outputs": [],
   "source": []
  },
  {
   "cell_type": "code",
   "execution_count": null,
   "id": "87256342",
   "metadata": {},
   "outputs": [],
   "source": []
  },
  {
   "cell_type": "code",
   "execution_count": null,
   "id": "96d978fc",
   "metadata": {},
   "outputs": [],
   "source": []
  },
  {
   "cell_type": "code",
   "execution_count": null,
   "id": "d060dcf7",
   "metadata": {},
   "outputs": [],
   "source": []
  }
 ],
 "metadata": {
  "kernelspec": {
   "display_name": "Python 3 (ipykernel)",
   "language": "python",
   "name": "python3"
  },
  "language_info": {
   "codemirror_mode": {
    "name": "ipython",
    "version": 3
   },
   "file_extension": ".py",
   "mimetype": "text/x-python",
   "name": "python",
   "nbconvert_exporter": "python",
   "pygments_lexer": "ipython3",
   "version": "3.8.3"
  }
 },
 "nbformat": 4,
 "nbformat_minor": 5
}
